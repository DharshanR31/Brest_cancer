{
 "cells": [
  {
   "cell_type": "code",
   "execution_count": 1,
   "metadata": {
    "id": "tEt222EDn3Yi"
   },
   "outputs": [],
   "source": [
    "import pandas as pd\n",
    "import numpy as np\n",
    "import matplotlib.pyplot as plt\n",
    "import seaborn as sns\n",
    "from sklearn.model_selection import train_test_split"
   ]
  },
  {
   "cell_type": "markdown",
   "metadata": {
    "id": "7mJh8by0F9m3"
   },
   "source": [
    "Data collection and processing"
   ]
  },
  {
   "cell_type": "code",
   "execution_count": 2,
   "metadata": {
    "id": "HR9tqbKZoTjY"
   },
   "outputs": [],
   "source": [
    "brest_cancer = pd.read_csv(\"Wisconsin_Breast_Cancer.csv\")"
   ]
  },
  {
   "cell_type": "code",
   "execution_count": 3,
   "metadata": {
    "colab": {
     "base_uri": "https://localhost:8080/",
     "height": 334
    },
    "executionInfo": {
     "elapsed": 14,
     "status": "ok",
     "timestamp": 1689259856619,
     "user": {
      "displayName": "Dharshan R",
      "userId": "07720884198613084399"
     },
     "user_tz": -330
    },
    "id": "TiFgHOV6pKeV",
    "outputId": "295a3f85-6694-4461-c7d6-850055ccf6f0"
   },
   "outputs": [
    {
     "data": {
      "text/html": [
       "<div>\n",
       "<style scoped>\n",
       "    .dataframe tbody tr th:only-of-type {\n",
       "        vertical-align: middle;\n",
       "    }\n",
       "\n",
       "    .dataframe tbody tr th {\n",
       "        vertical-align: top;\n",
       "    }\n",
       "\n",
       "    .dataframe thead th {\n",
       "        text-align: right;\n",
       "    }\n",
       "</style>\n",
       "<table border=\"1\" class=\"dataframe\">\n",
       "  <thead>\n",
       "    <tr style=\"text-align: right;\">\n",
       "      <th></th>\n",
       "      <th>Unnamed: 0</th>\n",
       "      <th>x.radius_0ean</th>\n",
       "      <th>x.texture_0ean</th>\n",
       "      <th>x.peri0eter_0ean</th>\n",
       "      <th>x.area_0ean</th>\n",
       "      <th>x.s0oothness_0ean</th>\n",
       "      <th>x.co0pactness_0ean</th>\n",
       "      <th>x.concavity_0ean</th>\n",
       "      <th>x.concave_pts_0ean</th>\n",
       "      <th>x.sy00etry_0ean</th>\n",
       "      <th>...</th>\n",
       "      <th>x.texture_worst</th>\n",
       "      <th>x.peri0eter_worst</th>\n",
       "      <th>x.area_worst</th>\n",
       "      <th>x.s0oothness_worst</th>\n",
       "      <th>x.co0pactness_worst</th>\n",
       "      <th>x.concavity_worst</th>\n",
       "      <th>x.concave_pts_worst</th>\n",
       "      <th>x.sy00etry_worst</th>\n",
       "      <th>x.fractal_di0_worst</th>\n",
       "      <th>y</th>\n",
       "    </tr>\n",
       "  </thead>\n",
       "  <tbody>\n",
       "    <tr>\n",
       "      <th>0</th>\n",
       "      <td>1</td>\n",
       "      <td>13.540</td>\n",
       "      <td>14.36</td>\n",
       "      <td>87.46</td>\n",
       "      <td>566.3</td>\n",
       "      <td>0.09779</td>\n",
       "      <td>0.08129</td>\n",
       "      <td>0.06664</td>\n",
       "      <td>0.047810</td>\n",
       "      <td>0.1885</td>\n",
       "      <td>...</td>\n",
       "      <td>19.26</td>\n",
       "      <td>99.70</td>\n",
       "      <td>711.2</td>\n",
       "      <td>0.14400</td>\n",
       "      <td>0.17730</td>\n",
       "      <td>0.23900</td>\n",
       "      <td>0.12880</td>\n",
       "      <td>0.2977</td>\n",
       "      <td>0.07259</td>\n",
       "      <td>1</td>\n",
       "    </tr>\n",
       "    <tr>\n",
       "      <th>1</th>\n",
       "      <td>2</td>\n",
       "      <td>13.080</td>\n",
       "      <td>15.71</td>\n",
       "      <td>85.63</td>\n",
       "      <td>520.0</td>\n",
       "      <td>0.10750</td>\n",
       "      <td>0.12700</td>\n",
       "      <td>0.04568</td>\n",
       "      <td>0.031100</td>\n",
       "      <td>0.1967</td>\n",
       "      <td>...</td>\n",
       "      <td>20.49</td>\n",
       "      <td>96.09</td>\n",
       "      <td>630.5</td>\n",
       "      <td>0.13120</td>\n",
       "      <td>0.27760</td>\n",
       "      <td>0.18900</td>\n",
       "      <td>0.07283</td>\n",
       "      <td>0.3184</td>\n",
       "      <td>0.08183</td>\n",
       "      <td>1</td>\n",
       "    </tr>\n",
       "    <tr>\n",
       "      <th>2</th>\n",
       "      <td>3</td>\n",
       "      <td>9.504</td>\n",
       "      <td>12.44</td>\n",
       "      <td>60.34</td>\n",
       "      <td>273.9</td>\n",
       "      <td>0.10240</td>\n",
       "      <td>0.06492</td>\n",
       "      <td>0.02956</td>\n",
       "      <td>0.020760</td>\n",
       "      <td>0.1815</td>\n",
       "      <td>...</td>\n",
       "      <td>15.66</td>\n",
       "      <td>65.13</td>\n",
       "      <td>314.9</td>\n",
       "      <td>0.13240</td>\n",
       "      <td>0.11480</td>\n",
       "      <td>0.08867</td>\n",
       "      <td>0.06227</td>\n",
       "      <td>0.2450</td>\n",
       "      <td>0.07773</td>\n",
       "      <td>1</td>\n",
       "    </tr>\n",
       "    <tr>\n",
       "      <th>3</th>\n",
       "      <td>4</td>\n",
       "      <td>13.030</td>\n",
       "      <td>18.42</td>\n",
       "      <td>82.61</td>\n",
       "      <td>523.8</td>\n",
       "      <td>0.08983</td>\n",
       "      <td>0.03766</td>\n",
       "      <td>0.02562</td>\n",
       "      <td>0.029230</td>\n",
       "      <td>0.1467</td>\n",
       "      <td>...</td>\n",
       "      <td>22.81</td>\n",
       "      <td>84.46</td>\n",
       "      <td>545.9</td>\n",
       "      <td>0.09701</td>\n",
       "      <td>0.04619</td>\n",
       "      <td>0.04833</td>\n",
       "      <td>0.05013</td>\n",
       "      <td>0.1987</td>\n",
       "      <td>0.06169</td>\n",
       "      <td>1</td>\n",
       "    </tr>\n",
       "    <tr>\n",
       "      <th>4</th>\n",
       "      <td>5</td>\n",
       "      <td>8.196</td>\n",
       "      <td>16.84</td>\n",
       "      <td>51.71</td>\n",
       "      <td>201.9</td>\n",
       "      <td>0.08600</td>\n",
       "      <td>0.05943</td>\n",
       "      <td>0.01588</td>\n",
       "      <td>0.005917</td>\n",
       "      <td>0.1769</td>\n",
       "      <td>...</td>\n",
       "      <td>21.96</td>\n",
       "      <td>57.26</td>\n",
       "      <td>242.2</td>\n",
       "      <td>0.12970</td>\n",
       "      <td>0.13570</td>\n",
       "      <td>0.06880</td>\n",
       "      <td>0.02564</td>\n",
       "      <td>0.3105</td>\n",
       "      <td>0.07409</td>\n",
       "      <td>1</td>\n",
       "    </tr>\n",
       "  </tbody>\n",
       "</table>\n",
       "<p>5 rows × 32 columns</p>\n",
       "</div>"
      ],
      "text/plain": [
       "   Unnamed: 0  x.radius_0ean  x.texture_0ean  x.peri0eter_0ean  x.area_0ean  \\\n",
       "0           1         13.540           14.36             87.46        566.3   \n",
       "1           2         13.080           15.71             85.63        520.0   \n",
       "2           3          9.504           12.44             60.34        273.9   \n",
       "3           4         13.030           18.42             82.61        523.8   \n",
       "4           5          8.196           16.84             51.71        201.9   \n",
       "\n",
       "   x.s0oothness_0ean  x.co0pactness_0ean  x.concavity_0ean  \\\n",
       "0            0.09779             0.08129           0.06664   \n",
       "1            0.10750             0.12700           0.04568   \n",
       "2            0.10240             0.06492           0.02956   \n",
       "3            0.08983             0.03766           0.02562   \n",
       "4            0.08600             0.05943           0.01588   \n",
       "\n",
       "   x.concave_pts_0ean  x.sy00etry_0ean  ...  x.texture_worst  \\\n",
       "0            0.047810           0.1885  ...            19.26   \n",
       "1            0.031100           0.1967  ...            20.49   \n",
       "2            0.020760           0.1815  ...            15.66   \n",
       "3            0.029230           0.1467  ...            22.81   \n",
       "4            0.005917           0.1769  ...            21.96   \n",
       "\n",
       "   x.peri0eter_worst  x.area_worst  x.s0oothness_worst  x.co0pactness_worst  \\\n",
       "0              99.70         711.2             0.14400              0.17730   \n",
       "1              96.09         630.5             0.13120              0.27760   \n",
       "2              65.13         314.9             0.13240              0.11480   \n",
       "3              84.46         545.9             0.09701              0.04619   \n",
       "4              57.26         242.2             0.12970              0.13570   \n",
       "\n",
       "   x.concavity_worst  x.concave_pts_worst  x.sy00etry_worst  \\\n",
       "0            0.23900              0.12880            0.2977   \n",
       "1            0.18900              0.07283            0.3184   \n",
       "2            0.08867              0.06227            0.2450   \n",
       "3            0.04833              0.05013            0.1987   \n",
       "4            0.06880              0.02564            0.3105   \n",
       "\n",
       "   x.fractal_di0_worst  y  \n",
       "0              0.07259  1  \n",
       "1              0.08183  1  \n",
       "2              0.07773  1  \n",
       "3              0.06169  1  \n",
       "4              0.07409  1  \n",
       "\n",
       "[5 rows x 32 columns]"
      ]
     },
     "execution_count": 3,
     "metadata": {},
     "output_type": "execute_result"
    }
   ],
   "source": [
    "#printing the first 5 rows of the dataframe\n",
    "brest_cancer.head()"
   ]
  },
  {
   "cell_type": "code",
   "execution_count": 4,
   "metadata": {
    "colab": {
     "base_uri": "https://localhost:8080/",
     "height": 334
    },
    "executionInfo": {
     "elapsed": 77,
     "status": "ok",
     "timestamp": 1689259857636,
     "user": {
      "displayName": "Dharshan R",
      "userId": "07720884198613084399"
     },
     "user_tz": -330
    },
    "id": "6cn8EChsHWNT",
    "outputId": "543d816d-3b00-4ccf-b229-61885a061b55"
   },
   "outputs": [
    {
     "data": {
      "text/html": [
       "<div>\n",
       "<style scoped>\n",
       "    .dataframe tbody tr th:only-of-type {\n",
       "        vertical-align: middle;\n",
       "    }\n",
       "\n",
       "    .dataframe tbody tr th {\n",
       "        vertical-align: top;\n",
       "    }\n",
       "\n",
       "    .dataframe thead th {\n",
       "        text-align: right;\n",
       "    }\n",
       "</style>\n",
       "<table border=\"1\" class=\"dataframe\">\n",
       "  <thead>\n",
       "    <tr style=\"text-align: right;\">\n",
       "      <th></th>\n",
       "      <th>Unnamed: 0</th>\n",
       "      <th>x.radius_0ean</th>\n",
       "      <th>x.texture_0ean</th>\n",
       "      <th>x.peri0eter_0ean</th>\n",
       "      <th>x.area_0ean</th>\n",
       "      <th>x.s0oothness_0ean</th>\n",
       "      <th>x.co0pactness_0ean</th>\n",
       "      <th>x.concavity_0ean</th>\n",
       "      <th>x.concave_pts_0ean</th>\n",
       "      <th>x.sy00etry_0ean</th>\n",
       "      <th>...</th>\n",
       "      <th>x.texture_worst</th>\n",
       "      <th>x.peri0eter_worst</th>\n",
       "      <th>x.area_worst</th>\n",
       "      <th>x.s0oothness_worst</th>\n",
       "      <th>x.co0pactness_worst</th>\n",
       "      <th>x.concavity_worst</th>\n",
       "      <th>x.concave_pts_worst</th>\n",
       "      <th>x.sy00etry_worst</th>\n",
       "      <th>x.fractal_di0_worst</th>\n",
       "      <th>y</th>\n",
       "    </tr>\n",
       "  </thead>\n",
       "  <tbody>\n",
       "    <tr>\n",
       "      <th>564</th>\n",
       "      <td>565</td>\n",
       "      <td>20.92</td>\n",
       "      <td>25.09</td>\n",
       "      <td>143.0</td>\n",
       "      <td>1347.0</td>\n",
       "      <td>0.10990</td>\n",
       "      <td>0.2236</td>\n",
       "      <td>0.31740</td>\n",
       "      <td>0.14740</td>\n",
       "      <td>0.2149</td>\n",
       "      <td>...</td>\n",
       "      <td>29.41</td>\n",
       "      <td>179.1</td>\n",
       "      <td>1819.0</td>\n",
       "      <td>0.1407</td>\n",
       "      <td>0.4186</td>\n",
       "      <td>0.6599</td>\n",
       "      <td>0.2542</td>\n",
       "      <td>0.2929</td>\n",
       "      <td>0.09873</td>\n",
       "      <td>0</td>\n",
       "    </tr>\n",
       "    <tr>\n",
       "      <th>565</th>\n",
       "      <td>566</td>\n",
       "      <td>21.56</td>\n",
       "      <td>22.39</td>\n",
       "      <td>142.0</td>\n",
       "      <td>1479.0</td>\n",
       "      <td>0.11100</td>\n",
       "      <td>0.1159</td>\n",
       "      <td>0.24390</td>\n",
       "      <td>0.13890</td>\n",
       "      <td>0.1726</td>\n",
       "      <td>...</td>\n",
       "      <td>26.40</td>\n",
       "      <td>166.1</td>\n",
       "      <td>2027.0</td>\n",
       "      <td>0.1410</td>\n",
       "      <td>0.2113</td>\n",
       "      <td>0.4107</td>\n",
       "      <td>0.2216</td>\n",
       "      <td>0.2060</td>\n",
       "      <td>0.07115</td>\n",
       "      <td>0</td>\n",
       "    </tr>\n",
       "    <tr>\n",
       "      <th>566</th>\n",
       "      <td>567</td>\n",
       "      <td>20.13</td>\n",
       "      <td>28.25</td>\n",
       "      <td>131.2</td>\n",
       "      <td>1261.0</td>\n",
       "      <td>0.09780</td>\n",
       "      <td>0.1034</td>\n",
       "      <td>0.14400</td>\n",
       "      <td>0.09791</td>\n",
       "      <td>0.1752</td>\n",
       "      <td>...</td>\n",
       "      <td>38.25</td>\n",
       "      <td>155.0</td>\n",
       "      <td>1731.0</td>\n",
       "      <td>0.1166</td>\n",
       "      <td>0.1922</td>\n",
       "      <td>0.3215</td>\n",
       "      <td>0.1628</td>\n",
       "      <td>0.2572</td>\n",
       "      <td>0.06637</td>\n",
       "      <td>0</td>\n",
       "    </tr>\n",
       "    <tr>\n",
       "      <th>567</th>\n",
       "      <td>568</td>\n",
       "      <td>16.60</td>\n",
       "      <td>28.08</td>\n",
       "      <td>108.3</td>\n",
       "      <td>858.1</td>\n",
       "      <td>0.08455</td>\n",
       "      <td>0.1023</td>\n",
       "      <td>0.09251</td>\n",
       "      <td>0.05302</td>\n",
       "      <td>0.1590</td>\n",
       "      <td>...</td>\n",
       "      <td>34.12</td>\n",
       "      <td>126.7</td>\n",
       "      <td>1124.0</td>\n",
       "      <td>0.1139</td>\n",
       "      <td>0.3094</td>\n",
       "      <td>0.3403</td>\n",
       "      <td>0.1418</td>\n",
       "      <td>0.2218</td>\n",
       "      <td>0.07820</td>\n",
       "      <td>0</td>\n",
       "    </tr>\n",
       "    <tr>\n",
       "      <th>568</th>\n",
       "      <td>569</td>\n",
       "      <td>20.60</td>\n",
       "      <td>29.33</td>\n",
       "      <td>140.1</td>\n",
       "      <td>1265.0</td>\n",
       "      <td>0.11780</td>\n",
       "      <td>0.2770</td>\n",
       "      <td>0.35140</td>\n",
       "      <td>0.15200</td>\n",
       "      <td>0.2397</td>\n",
       "      <td>...</td>\n",
       "      <td>39.42</td>\n",
       "      <td>184.6</td>\n",
       "      <td>1821.0</td>\n",
       "      <td>0.1650</td>\n",
       "      <td>0.8681</td>\n",
       "      <td>0.9387</td>\n",
       "      <td>0.2650</td>\n",
       "      <td>0.4087</td>\n",
       "      <td>0.12400</td>\n",
       "      <td>0</td>\n",
       "    </tr>\n",
       "  </tbody>\n",
       "</table>\n",
       "<p>5 rows × 32 columns</p>\n",
       "</div>"
      ],
      "text/plain": [
       "     Unnamed: 0  x.radius_0ean  x.texture_0ean  x.peri0eter_0ean  x.area_0ean  \\\n",
       "564         565          20.92           25.09             143.0       1347.0   \n",
       "565         566          21.56           22.39             142.0       1479.0   \n",
       "566         567          20.13           28.25             131.2       1261.0   \n",
       "567         568          16.60           28.08             108.3        858.1   \n",
       "568         569          20.60           29.33             140.1       1265.0   \n",
       "\n",
       "     x.s0oothness_0ean  x.co0pactness_0ean  x.concavity_0ean  \\\n",
       "564            0.10990              0.2236           0.31740   \n",
       "565            0.11100              0.1159           0.24390   \n",
       "566            0.09780              0.1034           0.14400   \n",
       "567            0.08455              0.1023           0.09251   \n",
       "568            0.11780              0.2770           0.35140   \n",
       "\n",
       "     x.concave_pts_0ean  x.sy00etry_0ean  ...  x.texture_worst  \\\n",
       "564             0.14740           0.2149  ...            29.41   \n",
       "565             0.13890           0.1726  ...            26.40   \n",
       "566             0.09791           0.1752  ...            38.25   \n",
       "567             0.05302           0.1590  ...            34.12   \n",
       "568             0.15200           0.2397  ...            39.42   \n",
       "\n",
       "     x.peri0eter_worst  x.area_worst  x.s0oothness_worst  x.co0pactness_worst  \\\n",
       "564              179.1        1819.0              0.1407               0.4186   \n",
       "565              166.1        2027.0              0.1410               0.2113   \n",
       "566              155.0        1731.0              0.1166               0.1922   \n",
       "567              126.7        1124.0              0.1139               0.3094   \n",
       "568              184.6        1821.0              0.1650               0.8681   \n",
       "\n",
       "     x.concavity_worst  x.concave_pts_worst  x.sy00etry_worst  \\\n",
       "564             0.6599               0.2542            0.2929   \n",
       "565             0.4107               0.2216            0.2060   \n",
       "566             0.3215               0.1628            0.2572   \n",
       "567             0.3403               0.1418            0.2218   \n",
       "568             0.9387               0.2650            0.4087   \n",
       "\n",
       "     x.fractal_di0_worst  y  \n",
       "564              0.09873  0  \n",
       "565              0.07115  0  \n",
       "566              0.06637  0  \n",
       "567              0.07820  0  \n",
       "568              0.12400  0  \n",
       "\n",
       "[5 rows x 32 columns]"
      ]
     },
     "execution_count": 4,
     "metadata": {},
     "output_type": "execute_result"
    }
   ],
   "source": [
    "# print the last 5 rows of the data frame\n",
    "brest_cancer.tail()"
   ]
  },
  {
   "cell_type": "code",
   "execution_count": 5,
   "metadata": {},
   "outputs": [],
   "source": [
    "#brest_cancer.drop('Unnamed: 0', axis=1)\n",
    "brest_cancer.drop(brest_cancer.columns[[0]], axis=1, inplace=True)"
   ]
  },
  {
   "cell_type": "code",
   "execution_count": 6,
   "metadata": {
    "colab": {
     "base_uri": "https://localhost:8080/"
    },
    "executionInfo": {
     "elapsed": 74,
     "status": "ok",
     "timestamp": 1689259857638,
     "user": {
      "displayName": "Dharshan R",
      "userId": "07720884198613084399"
     },
     "user_tz": -330
    },
    "id": "H6jWmIQwHgCj",
    "outputId": "9aef58d8-b561-4a9e-cc42-5fd2600ee8e1"
   },
   "outputs": [
    {
     "data": {
      "text/plain": [
       "(569, 31)"
      ]
     },
     "execution_count": 6,
     "metadata": {},
     "output_type": "execute_result"
    }
   ],
   "source": [
    "# numbers of rows and columns in the the dataset\n",
    "brest_cancer.shape"
   ]
  },
  {
   "cell_type": "code",
   "execution_count": 7,
   "metadata": {
    "colab": {
     "base_uri": "https://localhost:8080/"
    },
    "executionInfo": {
     "elapsed": 71,
     "status": "ok",
     "timestamp": 1689259857640,
     "user": {
      "displayName": "Dharshan R",
      "userId": "07720884198613084399"
     },
     "user_tz": -330
    },
    "id": "LuIv1k7ZHr2H",
    "outputId": "b69ee09d-39eb-44dc-b530-82b1d9fa0572"
   },
   "outputs": [
    {
     "name": "stdout",
     "output_type": "stream",
     "text": [
      "<class 'pandas.core.frame.DataFrame'>\n",
      "RangeIndex: 569 entries, 0 to 568\n",
      "Data columns (total 31 columns):\n",
      " #   Column               Non-Null Count  Dtype  \n",
      "---  ------               --------------  -----  \n",
      " 0   x.radius_0ean        569 non-null    float64\n",
      " 1   x.texture_0ean       569 non-null    float64\n",
      " 2   x.peri0eter_0ean     569 non-null    float64\n",
      " 3   x.area_0ean          569 non-null    float64\n",
      " 4   x.s0oothness_0ean    569 non-null    float64\n",
      " 5   x.co0pactness_0ean   569 non-null    float64\n",
      " 6   x.concavity_0ean     569 non-null    float64\n",
      " 7   x.concave_pts_0ean   569 non-null    float64\n",
      " 8   x.sy00etry_0ean      569 non-null    float64\n",
      " 9   x.fractal_di0_0ean   569 non-null    float64\n",
      " 10  x.radius_se          569 non-null    float64\n",
      " 11  x.texture_se         569 non-null    float64\n",
      " 12  x.peri0eter_se       569 non-null    float64\n",
      " 13  x.area_se            569 non-null    float64\n",
      " 14  x.s0oothness_se      569 non-null    float64\n",
      " 15  x.co0pactness_se     569 non-null    float64\n",
      " 16  x.concavity_se       569 non-null    float64\n",
      " 17  x.concave_pts_se     569 non-null    float64\n",
      " 18  x.sy00etry_se        569 non-null    float64\n",
      " 19  x.fractal_di0_se     569 non-null    float64\n",
      " 20  x.radius_worst       569 non-null    float64\n",
      " 21  x.texture_worst      569 non-null    float64\n",
      " 22  x.peri0eter_worst    569 non-null    float64\n",
      " 23  x.area_worst         569 non-null    float64\n",
      " 24  x.s0oothness_worst   569 non-null    float64\n",
      " 25  x.co0pactness_worst  569 non-null    float64\n",
      " 26  x.concavity_worst    569 non-null    float64\n",
      " 27  x.concave_pts_worst  569 non-null    float64\n",
      " 28  x.sy00etry_worst     569 non-null    float64\n",
      " 29  x.fractal_di0_worst  569 non-null    float64\n",
      " 30  y                    569 non-null    int64  \n",
      "dtypes: float64(30), int64(1)\n",
      "memory usage: 137.9 KB\n"
     ]
    }
   ],
   "source": [
    "# getting some information about the data\n",
    "brest_cancer.info()"
   ]
  },
  {
   "cell_type": "code",
   "execution_count": 8,
   "metadata": {
    "colab": {
     "base_uri": "https://localhost:8080/"
    },
    "executionInfo": {
     "elapsed": 69,
     "status": "ok",
     "timestamp": 1689259857642,
     "user": {
      "displayName": "Dharshan R",
      "userId": "07720884198613084399"
     },
     "user_tz": -330
    },
    "id": "tqEoIimaH6E9",
    "outputId": "795a6944-9e00-4f4f-b421-137541e8d782"
   },
   "outputs": [
    {
     "data": {
      "text/plain": [
       "x.radius_0ean          0\n",
       "x.texture_0ean         0\n",
       "x.peri0eter_0ean       0\n",
       "x.area_0ean            0\n",
       "x.s0oothness_0ean      0\n",
       "x.co0pactness_0ean     0\n",
       "x.concavity_0ean       0\n",
       "x.concave_pts_0ean     0\n",
       "x.sy00etry_0ean        0\n",
       "x.fractal_di0_0ean     0\n",
       "x.radius_se            0\n",
       "x.texture_se           0\n",
       "x.peri0eter_se         0\n",
       "x.area_se              0\n",
       "x.s0oothness_se        0\n",
       "x.co0pactness_se       0\n",
       "x.concavity_se         0\n",
       "x.concave_pts_se       0\n",
       "x.sy00etry_se          0\n",
       "x.fractal_di0_se       0\n",
       "x.radius_worst         0\n",
       "x.texture_worst        0\n",
       "x.peri0eter_worst      0\n",
       "x.area_worst           0\n",
       "x.s0oothness_worst     0\n",
       "x.co0pactness_worst    0\n",
       "x.concavity_worst      0\n",
       "x.concave_pts_worst    0\n",
       "x.sy00etry_worst       0\n",
       "x.fractal_di0_worst    0\n",
       "y                      0\n",
       "dtype: int64"
      ]
     },
     "execution_count": 8,
     "metadata": {},
     "output_type": "execute_result"
    }
   ],
   "source": [
    "brest_cancer.isnull().sum()"
   ]
  },
  {
   "cell_type": "code",
   "execution_count": 9,
   "metadata": {
    "colab": {
     "base_uri": "https://localhost:8080/",
     "height": 428
    },
    "executionInfo": {
     "elapsed": 65,
     "status": "ok",
     "timestamp": 1689259857644,
     "user": {
      "displayName": "Dharshan R",
      "userId": "07720884198613084399"
     },
     "user_tz": -330
    },
    "id": "uT202LwXJYYK",
    "outputId": "d53e1c68-b3fb-456a-c5a0-af3972363314"
   },
   "outputs": [
    {
     "data": {
      "text/html": [
       "<div>\n",
       "<style scoped>\n",
       "    .dataframe tbody tr th:only-of-type {\n",
       "        vertical-align: middle;\n",
       "    }\n",
       "\n",
       "    .dataframe tbody tr th {\n",
       "        vertical-align: top;\n",
       "    }\n",
       "\n",
       "    .dataframe thead th {\n",
       "        text-align: right;\n",
       "    }\n",
       "</style>\n",
       "<table border=\"1\" class=\"dataframe\">\n",
       "  <thead>\n",
       "    <tr style=\"text-align: right;\">\n",
       "      <th></th>\n",
       "      <th>x.radius_0ean</th>\n",
       "      <th>x.texture_0ean</th>\n",
       "      <th>x.peri0eter_0ean</th>\n",
       "      <th>x.area_0ean</th>\n",
       "      <th>x.s0oothness_0ean</th>\n",
       "      <th>x.co0pactness_0ean</th>\n",
       "      <th>x.concavity_0ean</th>\n",
       "      <th>x.concave_pts_0ean</th>\n",
       "      <th>x.sy00etry_0ean</th>\n",
       "      <th>x.fractal_di0_0ean</th>\n",
       "      <th>...</th>\n",
       "      <th>x.texture_worst</th>\n",
       "      <th>x.peri0eter_worst</th>\n",
       "      <th>x.area_worst</th>\n",
       "      <th>x.s0oothness_worst</th>\n",
       "      <th>x.co0pactness_worst</th>\n",
       "      <th>x.concavity_worst</th>\n",
       "      <th>x.concave_pts_worst</th>\n",
       "      <th>x.sy00etry_worst</th>\n",
       "      <th>x.fractal_di0_worst</th>\n",
       "      <th>y</th>\n",
       "    </tr>\n",
       "  </thead>\n",
       "  <tbody>\n",
       "    <tr>\n",
       "      <th>count</th>\n",
       "      <td>569.000000</td>\n",
       "      <td>569.000000</td>\n",
       "      <td>569.000000</td>\n",
       "      <td>569.000000</td>\n",
       "      <td>569.000000</td>\n",
       "      <td>569.000000</td>\n",
       "      <td>569.000000</td>\n",
       "      <td>569.000000</td>\n",
       "      <td>569.000000</td>\n",
       "      <td>569.000000</td>\n",
       "      <td>...</td>\n",
       "      <td>569.000000</td>\n",
       "      <td>569.000000</td>\n",
       "      <td>569.000000</td>\n",
       "      <td>569.000000</td>\n",
       "      <td>569.000000</td>\n",
       "      <td>569.000000</td>\n",
       "      <td>569.000000</td>\n",
       "      <td>569.000000</td>\n",
       "      <td>569.000000</td>\n",
       "      <td>569.000000</td>\n",
       "    </tr>\n",
       "    <tr>\n",
       "      <th>mean</th>\n",
       "      <td>14.127292</td>\n",
       "      <td>19.289649</td>\n",
       "      <td>91.969033</td>\n",
       "      <td>654.889104</td>\n",
       "      <td>0.096360</td>\n",
       "      <td>0.104341</td>\n",
       "      <td>0.088799</td>\n",
       "      <td>0.048919</td>\n",
       "      <td>0.181162</td>\n",
       "      <td>0.062798</td>\n",
       "      <td>...</td>\n",
       "      <td>25.677223</td>\n",
       "      <td>107.261213</td>\n",
       "      <td>880.583128</td>\n",
       "      <td>0.132369</td>\n",
       "      <td>0.254265</td>\n",
       "      <td>0.272188</td>\n",
       "      <td>0.114606</td>\n",
       "      <td>0.290076</td>\n",
       "      <td>0.083946</td>\n",
       "      <td>0.627417</td>\n",
       "    </tr>\n",
       "    <tr>\n",
       "      <th>std</th>\n",
       "      <td>3.524049</td>\n",
       "      <td>4.301036</td>\n",
       "      <td>24.298981</td>\n",
       "      <td>351.914129</td>\n",
       "      <td>0.014064</td>\n",
       "      <td>0.052813</td>\n",
       "      <td>0.079720</td>\n",
       "      <td>0.038803</td>\n",
       "      <td>0.027414</td>\n",
       "      <td>0.007060</td>\n",
       "      <td>...</td>\n",
       "      <td>6.146258</td>\n",
       "      <td>33.602542</td>\n",
       "      <td>569.356993</td>\n",
       "      <td>0.022832</td>\n",
       "      <td>0.157336</td>\n",
       "      <td>0.208624</td>\n",
       "      <td>0.065732</td>\n",
       "      <td>0.061867</td>\n",
       "      <td>0.018061</td>\n",
       "      <td>0.483918</td>\n",
       "    </tr>\n",
       "    <tr>\n",
       "      <th>min</th>\n",
       "      <td>6.981000</td>\n",
       "      <td>9.710000</td>\n",
       "      <td>43.790000</td>\n",
       "      <td>143.500000</td>\n",
       "      <td>0.052630</td>\n",
       "      <td>0.019380</td>\n",
       "      <td>0.000000</td>\n",
       "      <td>0.000000</td>\n",
       "      <td>0.106000</td>\n",
       "      <td>0.049960</td>\n",
       "      <td>...</td>\n",
       "      <td>12.020000</td>\n",
       "      <td>50.410000</td>\n",
       "      <td>185.200000</td>\n",
       "      <td>0.071170</td>\n",
       "      <td>0.027290</td>\n",
       "      <td>0.000000</td>\n",
       "      <td>0.000000</td>\n",
       "      <td>0.156500</td>\n",
       "      <td>0.055040</td>\n",
       "      <td>0.000000</td>\n",
       "    </tr>\n",
       "    <tr>\n",
       "      <th>25%</th>\n",
       "      <td>11.700000</td>\n",
       "      <td>16.170000</td>\n",
       "      <td>75.170000</td>\n",
       "      <td>420.300000</td>\n",
       "      <td>0.086370</td>\n",
       "      <td>0.064920</td>\n",
       "      <td>0.029560</td>\n",
       "      <td>0.020310</td>\n",
       "      <td>0.161900</td>\n",
       "      <td>0.057700</td>\n",
       "      <td>...</td>\n",
       "      <td>21.080000</td>\n",
       "      <td>84.110000</td>\n",
       "      <td>515.300000</td>\n",
       "      <td>0.116600</td>\n",
       "      <td>0.147200</td>\n",
       "      <td>0.114500</td>\n",
       "      <td>0.064930</td>\n",
       "      <td>0.250400</td>\n",
       "      <td>0.071460</td>\n",
       "      <td>0.000000</td>\n",
       "    </tr>\n",
       "    <tr>\n",
       "      <th>50%</th>\n",
       "      <td>13.370000</td>\n",
       "      <td>18.840000</td>\n",
       "      <td>86.240000</td>\n",
       "      <td>551.100000</td>\n",
       "      <td>0.095870</td>\n",
       "      <td>0.092630</td>\n",
       "      <td>0.061540</td>\n",
       "      <td>0.033500</td>\n",
       "      <td>0.179200</td>\n",
       "      <td>0.061540</td>\n",
       "      <td>...</td>\n",
       "      <td>25.410000</td>\n",
       "      <td>97.660000</td>\n",
       "      <td>686.500000</td>\n",
       "      <td>0.131300</td>\n",
       "      <td>0.211900</td>\n",
       "      <td>0.226700</td>\n",
       "      <td>0.099930</td>\n",
       "      <td>0.282200</td>\n",
       "      <td>0.080040</td>\n",
       "      <td>1.000000</td>\n",
       "    </tr>\n",
       "    <tr>\n",
       "      <th>75%</th>\n",
       "      <td>15.780000</td>\n",
       "      <td>21.800000</td>\n",
       "      <td>104.100000</td>\n",
       "      <td>782.700000</td>\n",
       "      <td>0.105300</td>\n",
       "      <td>0.130400</td>\n",
       "      <td>0.130700</td>\n",
       "      <td>0.074000</td>\n",
       "      <td>0.195700</td>\n",
       "      <td>0.066120</td>\n",
       "      <td>...</td>\n",
       "      <td>29.720000</td>\n",
       "      <td>125.400000</td>\n",
       "      <td>1084.000000</td>\n",
       "      <td>0.146000</td>\n",
       "      <td>0.339100</td>\n",
       "      <td>0.382900</td>\n",
       "      <td>0.161400</td>\n",
       "      <td>0.317900</td>\n",
       "      <td>0.092080</td>\n",
       "      <td>1.000000</td>\n",
       "    </tr>\n",
       "    <tr>\n",
       "      <th>max</th>\n",
       "      <td>28.110000</td>\n",
       "      <td>39.280000</td>\n",
       "      <td>188.500000</td>\n",
       "      <td>2501.000000</td>\n",
       "      <td>0.163400</td>\n",
       "      <td>0.345400</td>\n",
       "      <td>0.426800</td>\n",
       "      <td>0.201200</td>\n",
       "      <td>0.304000</td>\n",
       "      <td>0.097440</td>\n",
       "      <td>...</td>\n",
       "      <td>49.540000</td>\n",
       "      <td>251.200000</td>\n",
       "      <td>4254.000000</td>\n",
       "      <td>0.222600</td>\n",
       "      <td>1.058000</td>\n",
       "      <td>1.252000</td>\n",
       "      <td>0.291000</td>\n",
       "      <td>0.663800</td>\n",
       "      <td>0.207500</td>\n",
       "      <td>1.000000</td>\n",
       "    </tr>\n",
       "  </tbody>\n",
       "</table>\n",
       "<p>8 rows × 31 columns</p>\n",
       "</div>"
      ],
      "text/plain": [
       "       x.radius_0ean  x.texture_0ean  x.peri0eter_0ean  x.area_0ean  \\\n",
       "count     569.000000      569.000000        569.000000   569.000000   \n",
       "mean       14.127292       19.289649         91.969033   654.889104   \n",
       "std         3.524049        4.301036         24.298981   351.914129   \n",
       "min         6.981000        9.710000         43.790000   143.500000   \n",
       "25%        11.700000       16.170000         75.170000   420.300000   \n",
       "50%        13.370000       18.840000         86.240000   551.100000   \n",
       "75%        15.780000       21.800000        104.100000   782.700000   \n",
       "max        28.110000       39.280000        188.500000  2501.000000   \n",
       "\n",
       "       x.s0oothness_0ean  x.co0pactness_0ean  x.concavity_0ean  \\\n",
       "count         569.000000          569.000000        569.000000   \n",
       "mean            0.096360            0.104341          0.088799   \n",
       "std             0.014064            0.052813          0.079720   \n",
       "min             0.052630            0.019380          0.000000   \n",
       "25%             0.086370            0.064920          0.029560   \n",
       "50%             0.095870            0.092630          0.061540   \n",
       "75%             0.105300            0.130400          0.130700   \n",
       "max             0.163400            0.345400          0.426800   \n",
       "\n",
       "       x.concave_pts_0ean  x.sy00etry_0ean  x.fractal_di0_0ean  ...  \\\n",
       "count          569.000000       569.000000          569.000000  ...   \n",
       "mean             0.048919         0.181162            0.062798  ...   \n",
       "std              0.038803         0.027414            0.007060  ...   \n",
       "min              0.000000         0.106000            0.049960  ...   \n",
       "25%              0.020310         0.161900            0.057700  ...   \n",
       "50%              0.033500         0.179200            0.061540  ...   \n",
       "75%              0.074000         0.195700            0.066120  ...   \n",
       "max              0.201200         0.304000            0.097440  ...   \n",
       "\n",
       "       x.texture_worst  x.peri0eter_worst  x.area_worst  x.s0oothness_worst  \\\n",
       "count       569.000000         569.000000    569.000000          569.000000   \n",
       "mean         25.677223         107.261213    880.583128            0.132369   \n",
       "std           6.146258          33.602542    569.356993            0.022832   \n",
       "min          12.020000          50.410000    185.200000            0.071170   \n",
       "25%          21.080000          84.110000    515.300000            0.116600   \n",
       "50%          25.410000          97.660000    686.500000            0.131300   \n",
       "75%          29.720000         125.400000   1084.000000            0.146000   \n",
       "max          49.540000         251.200000   4254.000000            0.222600   \n",
       "\n",
       "       x.co0pactness_worst  x.concavity_worst  x.concave_pts_worst  \\\n",
       "count           569.000000         569.000000           569.000000   \n",
       "mean              0.254265           0.272188             0.114606   \n",
       "std               0.157336           0.208624             0.065732   \n",
       "min               0.027290           0.000000             0.000000   \n",
       "25%               0.147200           0.114500             0.064930   \n",
       "50%               0.211900           0.226700             0.099930   \n",
       "75%               0.339100           0.382900             0.161400   \n",
       "max               1.058000           1.252000             0.291000   \n",
       "\n",
       "       x.sy00etry_worst  x.fractal_di0_worst           y  \n",
       "count        569.000000           569.000000  569.000000  \n",
       "mean           0.290076             0.083946    0.627417  \n",
       "std            0.061867             0.018061    0.483918  \n",
       "min            0.156500             0.055040    0.000000  \n",
       "25%            0.250400             0.071460    0.000000  \n",
       "50%            0.282200             0.080040    1.000000  \n",
       "75%            0.317900             0.092080    1.000000  \n",
       "max            0.663800             0.207500    1.000000  \n",
       "\n",
       "[8 rows x 31 columns]"
      ]
     },
     "execution_count": 9,
     "metadata": {},
     "output_type": "execute_result"
    }
   ],
   "source": [
    "# Stastistical measures about the data\n",
    "brest_cancer.describe()"
   ]
  },
  {
   "cell_type": "code",
   "execution_count": 10,
   "metadata": {
    "colab": {
     "base_uri": "https://localhost:8080/"
    },
    "executionInfo": {
     "elapsed": 64,
     "status": "ok",
     "timestamp": 1689259857646,
     "user": {
      "displayName": "Dharshan R",
      "userId": "07720884198613084399"
     },
     "user_tz": -330
    },
    "id": "Ty5VaHHRJi61",
    "outputId": "89402f7f-38b5-4e7c-fda2-c2b6143e8580"
   },
   "outputs": [
    {
     "data": {
      "text/plain": [
       "1    357\n",
       "0    212\n",
       "Name: y, dtype: int64"
      ]
     },
     "execution_count": 10,
     "metadata": {},
     "output_type": "execute_result"
    }
   ],
   "source": [
    "brest_cancer['y'].value_counts()"
   ]
  },
  {
   "cell_type": "markdown",
   "metadata": {
    "id": "T7_dbdiEKcPM"
   },
   "source": [
    "1--> Bengin\n",
    "\n",
    "0--> Maligant"
   ]
  },
  {
   "cell_type": "code",
   "execution_count": 11,
   "metadata": {
    "colab": {
     "base_uri": "https://localhost:8080/",
     "height": 271
    },
    "executionInfo": {
     "elapsed": 63,
     "status": "ok",
     "timestamp": 1689259857650,
     "user": {
      "displayName": "Dharshan R",
      "userId": "07720884198613084399"
     },
     "user_tz": -330
    },
    "id": "KQqglYKsJuyw",
    "outputId": "46d4d988-e339-44ae-95b2-abadeec61b29"
   },
   "outputs": [
    {
     "data": {
      "text/html": [
       "<div>\n",
       "<style scoped>\n",
       "    .dataframe tbody tr th:only-of-type {\n",
       "        vertical-align: middle;\n",
       "    }\n",
       "\n",
       "    .dataframe tbody tr th {\n",
       "        vertical-align: top;\n",
       "    }\n",
       "\n",
       "    .dataframe thead th {\n",
       "        text-align: right;\n",
       "    }\n",
       "</style>\n",
       "<table border=\"1\" class=\"dataframe\">\n",
       "  <thead>\n",
       "    <tr style=\"text-align: right;\">\n",
       "      <th></th>\n",
       "      <th>x.radius_0ean</th>\n",
       "      <th>x.texture_0ean</th>\n",
       "      <th>x.peri0eter_0ean</th>\n",
       "      <th>x.area_0ean</th>\n",
       "      <th>x.s0oothness_0ean</th>\n",
       "      <th>x.co0pactness_0ean</th>\n",
       "      <th>x.concavity_0ean</th>\n",
       "      <th>x.concave_pts_0ean</th>\n",
       "      <th>x.sy00etry_0ean</th>\n",
       "      <th>x.fractal_di0_0ean</th>\n",
       "      <th>...</th>\n",
       "      <th>x.radius_worst</th>\n",
       "      <th>x.texture_worst</th>\n",
       "      <th>x.peri0eter_worst</th>\n",
       "      <th>x.area_worst</th>\n",
       "      <th>x.s0oothness_worst</th>\n",
       "      <th>x.co0pactness_worst</th>\n",
       "      <th>x.concavity_worst</th>\n",
       "      <th>x.concave_pts_worst</th>\n",
       "      <th>x.sy00etry_worst</th>\n",
       "      <th>x.fractal_di0_worst</th>\n",
       "    </tr>\n",
       "    <tr>\n",
       "      <th>y</th>\n",
       "      <th></th>\n",
       "      <th></th>\n",
       "      <th></th>\n",
       "      <th></th>\n",
       "      <th></th>\n",
       "      <th></th>\n",
       "      <th></th>\n",
       "      <th></th>\n",
       "      <th></th>\n",
       "      <th></th>\n",
       "      <th></th>\n",
       "      <th></th>\n",
       "      <th></th>\n",
       "      <th></th>\n",
       "      <th></th>\n",
       "      <th></th>\n",
       "      <th></th>\n",
       "      <th></th>\n",
       "      <th></th>\n",
       "      <th></th>\n",
       "      <th></th>\n",
       "    </tr>\n",
       "  </thead>\n",
       "  <tbody>\n",
       "    <tr>\n",
       "      <th>0</th>\n",
       "      <td>17.462830</td>\n",
       "      <td>21.604906</td>\n",
       "      <td>115.365377</td>\n",
       "      <td>978.376415</td>\n",
       "      <td>0.102898</td>\n",
       "      <td>0.145188</td>\n",
       "      <td>0.160775</td>\n",
       "      <td>0.087990</td>\n",
       "      <td>0.192909</td>\n",
       "      <td>0.062680</td>\n",
       "      <td>...</td>\n",
       "      <td>21.134811</td>\n",
       "      <td>29.318208</td>\n",
       "      <td>141.370330</td>\n",
       "      <td>1422.286321</td>\n",
       "      <td>0.144845</td>\n",
       "      <td>0.374824</td>\n",
       "      <td>0.450606</td>\n",
       "      <td>0.182237</td>\n",
       "      <td>0.323468</td>\n",
       "      <td>0.091530</td>\n",
       "    </tr>\n",
       "    <tr>\n",
       "      <th>1</th>\n",
       "      <td>12.146524</td>\n",
       "      <td>17.914762</td>\n",
       "      <td>78.075406</td>\n",
       "      <td>462.790196</td>\n",
       "      <td>0.092478</td>\n",
       "      <td>0.080085</td>\n",
       "      <td>0.046058</td>\n",
       "      <td>0.025717</td>\n",
       "      <td>0.174186</td>\n",
       "      <td>0.062867</td>\n",
       "      <td>...</td>\n",
       "      <td>13.379801</td>\n",
       "      <td>23.515070</td>\n",
       "      <td>87.005938</td>\n",
       "      <td>558.899440</td>\n",
       "      <td>0.124959</td>\n",
       "      <td>0.182673</td>\n",
       "      <td>0.166238</td>\n",
       "      <td>0.074444</td>\n",
       "      <td>0.270246</td>\n",
       "      <td>0.079442</td>\n",
       "    </tr>\n",
       "  </tbody>\n",
       "</table>\n",
       "<p>2 rows × 30 columns</p>\n",
       "</div>"
      ],
      "text/plain": [
       "   x.radius_0ean  x.texture_0ean  x.peri0eter_0ean  x.area_0ean  \\\n",
       "y                                                                 \n",
       "0      17.462830       21.604906        115.365377   978.376415   \n",
       "1      12.146524       17.914762         78.075406   462.790196   \n",
       "\n",
       "   x.s0oothness_0ean  x.co0pactness_0ean  x.concavity_0ean  \\\n",
       "y                                                            \n",
       "0           0.102898            0.145188          0.160775   \n",
       "1           0.092478            0.080085          0.046058   \n",
       "\n",
       "   x.concave_pts_0ean  x.sy00etry_0ean  x.fractal_di0_0ean  ...  \\\n",
       "y                                                           ...   \n",
       "0            0.087990         0.192909            0.062680  ...   \n",
       "1            0.025717         0.174186            0.062867  ...   \n",
       "\n",
       "   x.radius_worst  x.texture_worst  x.peri0eter_worst  x.area_worst  \\\n",
       "y                                                                     \n",
       "0       21.134811        29.318208         141.370330   1422.286321   \n",
       "1       13.379801        23.515070          87.005938    558.899440   \n",
       "\n",
       "   x.s0oothness_worst  x.co0pactness_worst  x.concavity_worst  \\\n",
       "y                                                               \n",
       "0            0.144845             0.374824           0.450606   \n",
       "1            0.124959             0.182673           0.166238   \n",
       "\n",
       "   x.concave_pts_worst  x.sy00etry_worst  x.fractal_di0_worst  \n",
       "y                                                              \n",
       "0             0.182237          0.323468             0.091530  \n",
       "1             0.074444          0.270246             0.079442  \n",
       "\n",
       "[2 rows x 30 columns]"
      ]
     },
     "execution_count": 11,
     "metadata": {},
     "output_type": "execute_result"
    }
   ],
   "source": [
    "brest_cancer.groupby('y').mean()"
   ]
  },
  {
   "cell_type": "code",
   "execution_count": 12,
   "metadata": {
    "id": "D-z3jZkSK0O_"
   },
   "outputs": [],
   "source": [
    "X = brest_cancer.iloc[:, :-1].values\n",
    "Y = brest_cancer.iloc[:, -1].values"
   ]
  },
  {
   "cell_type": "code",
   "execution_count": 13,
   "metadata": {
    "colab": {
     "base_uri": "https://localhost:8080/"
    },
    "executionInfo": {
     "elapsed": 62,
     "status": "ok",
     "timestamp": 1689259857654,
     "user": {
      "displayName": "Dharshan R",
      "userId": "07720884198613084399"
     },
     "user_tz": -330
    },
    "id": "15hz-PeALAef",
    "outputId": "a0ed7313-d1fb-49a8-e100-11a37e8f91b7"
   },
   "outputs": [
    {
     "name": "stdout",
     "output_type": "stream",
     "text": [
      "[[1.354e+01 1.436e+01 8.746e+01 ... 1.288e-01 2.977e-01 7.259e-02]\n",
      " [1.308e+01 1.571e+01 8.563e+01 ... 7.283e-02 3.184e-01 8.183e-02]\n",
      " [9.504e+00 1.244e+01 6.034e+01 ... 6.227e-02 2.450e-01 7.773e-02]\n",
      " ...\n",
      " [2.013e+01 2.825e+01 1.312e+02 ... 1.628e-01 2.572e-01 6.637e-02]\n",
      " [1.660e+01 2.808e+01 1.083e+02 ... 1.418e-01 2.218e-01 7.820e-02]\n",
      " [2.060e+01 2.933e+01 1.401e+02 ... 2.650e-01 4.087e-01 1.240e-01]]\n"
     ]
    }
   ],
   "source": [
    "print(X)"
   ]
  },
  {
   "cell_type": "code",
   "execution_count": 14,
   "metadata": {
    "id": "FYzaJYxALRGs"
   },
   "outputs": [],
   "source": [
    "X_train, X_test, Y_train, Y_test = train_test_split(X,Y, test_size=0.2, random_state=2)"
   ]
  },
  {
   "cell_type": "code",
   "execution_count": 15,
   "metadata": {
    "colab": {
     "base_uri": "https://localhost:8080/"
    },
    "executionInfo": {
     "elapsed": 59,
     "status": "ok",
     "timestamp": 1689259857657,
     "user": {
      "displayName": "Dharshan R",
      "userId": "07720884198613084399"
     },
     "user_tz": -330
    },
    "id": "6kHPuyQbLl0u",
    "outputId": "2211e8c5-55bc-4733-eac3-ed90c4ada3e2"
   },
   "outputs": [
    {
     "name": "stdout",
     "output_type": "stream",
     "text": [
      "(569, 31) (455, 30) (114, 30)\n"
     ]
    }
   ],
   "source": [
    "print(brest_cancer.shape, X_train.shape, X_test.shape)"
   ]
  },
  {
   "cell_type": "markdown",
   "metadata": {
    "id": "FSOe37HpLwwf"
   },
   "source": [
    "standardize the data"
   ]
  },
  {
   "cell_type": "code",
   "execution_count": 16,
   "metadata": {
    "id": "9s0mRhKULsva"
   },
   "outputs": [],
   "source": [
    "from sklearn.preprocessing import StandardScaler"
   ]
  },
  {
   "cell_type": "code",
   "execution_count": 17,
   "metadata": {
    "id": "KXm2kgGzL4v6"
   },
   "outputs": [],
   "source": [
    "scaler = StandardScaler()\n",
    "X_train_std = scaler.fit_transform(X_train)\n",
    "X_test_std = scaler.fit_transform(X_test)"
   ]
  },
  {
   "cell_type": "markdown",
   "metadata": {
    "id": "OZOx2RpcMKhL"
   },
   "source": [
    "## **Building the Neural Network**"
   ]
  },
  {
   "cell_type": "code",
   "execution_count": 18,
   "metadata": {
    "id": "faxU8tHBMJfc"
   },
   "outputs": [],
   "source": [
    "# Import the tensorflow and keras\n",
    "import tensorflow as tf\n",
    "tf.random.set_seed(3)\n",
    "from tensorflow import keras"
   ]
  },
  {
   "cell_type": "code",
   "execution_count": 19,
   "metadata": {
    "id": "hBtJJBv1Mndh"
   },
   "outputs": [],
   "source": [
    "from keras.api._v2.keras import activations\n",
    "# setting up the layers of Neural Network\n",
    "\n",
    "model = keras.Sequential([\n",
    "                      keras.layers.Flatten(input_shape=(30,)),\n",
    "                      keras.layers.Dense(20, activation = 'relu'),\n",
    "                      keras.layers.Dense(2, activation='sigmoid')\n",
    "])"
   ]
  },
  {
   "cell_type": "code",
   "execution_count": 20,
   "metadata": {
    "id": "drNK0DOLsRGs"
   },
   "outputs": [],
   "source": [
    "# compilling the Neural Network\n",
    "\n",
    "model.compile(optimizer = 'adam',\n",
    "                  loss='sparse_categorical_crossentropy',\n",
    "              metrics=['accuracy'])"
   ]
  },
  {
   "cell_type": "code",
   "execution_count": 21,
   "metadata": {
    "colab": {
     "base_uri": "https://localhost:8080/"
    },
    "executionInfo": {
     "elapsed": 5477,
     "status": "ok",
     "timestamp": 1689259867214,
     "user": {
      "displayName": "Dharshan R",
      "userId": "07720884198613084399"
     },
     "user_tz": -330
    },
    "id": "Hiv6Y0MDso3M",
    "outputId": "5beebb4e-f18b-425d-b7ae-fb4631ea3bfa"
   },
   "outputs": [
    {
     "name": "stdout",
     "output_type": "stream",
     "text": [
      "Epoch 1/15\n",
      "13/13 [==============================] - 1s 15ms/step - loss: 1.0683 - accuracy: 0.2910 - val_loss: 0.7773 - val_accuracy: 0.4348\n",
      "Epoch 2/15\n",
      "13/13 [==============================] - 0s 4ms/step - loss: 0.7235 - accuracy: 0.5477 - val_loss: 0.5437 - val_accuracy: 0.6522\n",
      "Epoch 3/15\n",
      "13/13 [==============================] - 0s 4ms/step - loss: 0.5091 - accuracy: 0.7702 - val_loss: 0.4072 - val_accuracy: 0.8261\n",
      "Epoch 4/15\n",
      "13/13 [==============================] - 0s 4ms/step - loss: 0.3777 - accuracy: 0.8802 - val_loss: 0.3297 - val_accuracy: 0.9130\n",
      "Epoch 5/15\n",
      "13/13 [==============================] - 0s 4ms/step - loss: 0.3010 - accuracy: 0.8998 - val_loss: 0.2827 - val_accuracy: 0.9348\n",
      "Epoch 6/15\n",
      "13/13 [==============================] - 0s 4ms/step - loss: 0.2510 - accuracy: 0.9218 - val_loss: 0.2499 - val_accuracy: 0.9348\n",
      "Epoch 7/15\n",
      "13/13 [==============================] - 0s 4ms/step - loss: 0.2155 - accuracy: 0.9389 - val_loss: 0.2263 - val_accuracy: 0.9348\n",
      "Epoch 8/15\n",
      "13/13 [==============================] - 0s 4ms/step - loss: 0.1900 - accuracy: 0.9535 - val_loss: 0.2079 - val_accuracy: 0.9348\n",
      "Epoch 9/15\n",
      "13/13 [==============================] - 0s 4ms/step - loss: 0.1715 - accuracy: 0.9560 - val_loss: 0.1929 - val_accuracy: 0.9348\n",
      "Epoch 10/15\n",
      "13/13 [==============================] - 0s 4ms/step - loss: 0.1561 - accuracy: 0.9609 - val_loss: 0.1808 - val_accuracy: 0.9348\n",
      "Epoch 11/15\n",
      "13/13 [==============================] - 0s 4ms/step - loss: 0.1438 - accuracy: 0.9658 - val_loss: 0.1709 - val_accuracy: 0.9348\n",
      "Epoch 12/15\n",
      "13/13 [==============================] - 0s 4ms/step - loss: 0.1337 - accuracy: 0.9682 - val_loss: 0.1627 - val_accuracy: 0.9348\n",
      "Epoch 13/15\n",
      "13/13 [==============================] - 0s 4ms/step - loss: 0.1245 - accuracy: 0.9682 - val_loss: 0.1551 - val_accuracy: 0.9348\n",
      "Epoch 14/15\n",
      "13/13 [==============================] - 0s 4ms/step - loss: 0.1175 - accuracy: 0.9682 - val_loss: 0.1489 - val_accuracy: 0.9348\n",
      "Epoch 15/15\n",
      "13/13 [==============================] - 0s 4ms/step - loss: 0.1106 - accuracy: 0.9707 - val_loss: 0.1436 - val_accuracy: 0.9348\n"
     ]
    }
   ],
   "source": [
    "# training the Neural Network\n",
    "\n",
    "history = model.fit(X_train_std, Y_train, validation_split=0.1, epochs=15)"
   ]
  },
  {
   "cell_type": "markdown",
   "metadata": {
    "id": "W-LynC1CtX5K"
   },
   "source": [
    "Visualization accuracy and loss"
   ]
  },
  {
   "cell_type": "code",
   "execution_count": 22,
   "metadata": {
    "colab": {
     "base_uri": "https://localhost:8080/",
     "height": 489
    },
    "executionInfo": {
     "elapsed": 1326,
     "status": "ok",
     "timestamp": 1689259868510,
     "user": {
      "displayName": "Dharshan R",
      "userId": "07720884198613084399"
     },
     "user_tz": -330
    },
    "id": "03Xd1Xi2tTqp",
    "outputId": "db826bd3-8665-4af0-a864-f1570981ee4a"
   },
   "outputs": [
    {
     "data": {
      "text/plain": [
       "<matplotlib.legend.Legend at 0x258e916c6d0>"
      ]
     },
     "execution_count": 22,
     "metadata": {},
     "output_type": "execute_result"
    },
    {
     "data": {
      "image/png": "[encoded data removed]",
      "text/plain": [
       "<Figure size 640x480 with 1 Axes>"
      ]
     },
     "metadata": {},
     "output_type": "display_data"
    }
   ],
   "source": [
    "plt.plot(history.history['accuracy'])\n",
    "plt.plot(history.history['val_accuracy'])\n",
    "\n",
    "plt.title('model accuracy')\n",
    "plt.ylabel('accuracy')\n",
    "plt.xlabel('epoch')\n",
    "\n",
    "plt.legend(['training data', 'validation data'], loc = 'lower right')"
   ]
  },
  {
   "cell_type": "code",
   "execution_count": 23,
   "metadata": {
    "colab": {
     "base_uri": "https://localhost:8080/",
     "height": 489
    },
    "executionInfo": {
     "elapsed": 979,
     "status": "ok",
     "timestamp": 1689259869475,
     "user": {
      "displayName": "Dharshan R",
      "userId": "07720884198613084399"
     },
     "user_tz": -330
    },
    "id": "uXQ1VhGnt3yE",
    "outputId": "5219e35c-d826-4f60-ceba-f5cdf17ebb39"
   },
   "outputs": [
    {
     "data": {
      "text/plain": [
       "<matplotlib.legend.Legend at 0x258e99bdcd0>"
      ]
     },
     "execution_count": 23,
     "metadata": {},
     "output_type": "execute_result"
    },
    {
     "data": {
      "image/png": "[encoded data removed]",
      "text/plain": [
       "<Figure size 640x480 with 1 Axes>"
      ]
     },
     "metadata": {},
     "output_type": "display_data"
    }
   ],
   "source": [
    "plt.plot(history.history['loss'])\n",
    "plt.plot(history.history['val_loss'])\n",
    "\n",
    "plt.title('model loss')\n",
    "plt.ylabel('loss')\n",
    "plt.xlabel('epoch')\n",
    "\n",
    "plt.legend(['training data', 'validation data'], loc = 'upper right')"
   ]
  },
  {
   "cell_type": "markdown",
   "metadata": {
    "id": "v8UqHUfEvIlB"
   },
   "source": [
    "Accuracy of the model on test data"
   ]
  },
  {
   "cell_type": "code",
   "execution_count": 24,
   "metadata": {
    "colab": {
     "base_uri": "https://localhost:8080/"
    },
    "executionInfo": {
     "elapsed": 426,
     "status": "ok",
     "timestamp": 1689259965118,
     "user": {
      "displayName": "Dharshan R",
      "userId": "07720884198613084399"
     },
     "user_tz": -330
    },
    "id": "30Kd1HLKvG6L",
    "outputId": "2a81a0ad-f10f-4113-9b7c-2d388cf2358f"
   },
   "outputs": [
    {
     "name": "stdout",
     "output_type": "stream",
     "text": [
      "4/4 [==============================] - 0s 2ms/step - loss: 0.1134 - accuracy: 0.9561\n",
      "0.9561403393745422\n"
     ]
    }
   ],
   "source": [
    "loss, accuracy = model.evaluate(X_test_std, Y_test)\n",
    "print(accuracy)"
   ]
  },
  {
   "cell_type": "code",
   "execution_count": 25,
   "metadata": {
    "colab": {
     "base_uri": "https://localhost:8080/"
    },
    "executionInfo": {
     "elapsed": 6,
     "status": "ok",
     "timestamp": 1689261378870,
     "user": {
      "displayName": "Dharshan R",
      "userId": "07720884198613084399"
     },
     "user_tz": -330
    },
    "id": "L2Lw4PI90vXL",
    "outputId": "f61621ce-bf03-4c28-d945-45d75a7537e1"
   },
   "outputs": [
    {
     "name": "stdout",
     "output_type": "stream",
     "text": [
      "4/4 [==============================] - 0s 1ms/step\n"
     ]
    }
   ],
   "source": [
    "Y_pred = model.predict(X_test_std)"
   ]
  },
  {
   "cell_type": "code",
   "execution_count": 26,
   "metadata": {
    "colab": {
     "base_uri": "https://localhost:8080/"
    },
    "executionInfo": {
     "elapsed": 499,
     "status": "ok",
     "timestamp": 1689261399311,
     "user": {
      "displayName": "Dharshan R",
      "userId": "07720884198613084399"
     },
     "user_tz": -330
    },
    "id": "H6RjgsLp00Gr",
    "outputId": "1b70c456-6f5b-4e3d-846c-f5f56fc50635"
   },
   "outputs": [
    {
     "name": "stdout",
     "output_type": "stream",
     "text": [
      "[[7.46641159e-01 3.80729362e-02]\n",
      " [4.22027737e-01 8.91893506e-01]\n",
      " [6.04323506e-01 2.85102497e-03]\n",
      " [2.56059468e-01 6.57849371e-01]\n",
      " [1.03263460e-01 9.72105443e-01]\n",
      " [1.68808326e-01 8.71669948e-01]\n",
      " [2.02335238e-01 9.91707742e-01]\n",
      " [1.69857636e-01 7.79732883e-01]\n",
      " [1.40764043e-01 9.48021233e-01]\n",
      " [6.02855921e-01 4.62378822e-02]\n",
      " [1.05239235e-01 9.21689928e-01]\n",
      " [1.32664844e-01 9.73051071e-01]\n",
      " [1.12683266e-01 8.46495092e-01]\n",
      " [3.63279134e-01 8.57330799e-01]\n",
      " [4.87955242e-01 7.75219560e-01]\n",
      " [2.14261144e-01 9.84030843e-01]\n",
      " [2.17587054e-01 7.06116676e-01]\n",
      " [8.36619139e-01 5.05844541e-02]\n",
      " [9.20250937e-02 8.98268163e-01]\n",
      " [1.91171214e-01 8.88563991e-01]\n",
      " [3.34272504e-01 9.31573033e-01]\n",
      " [3.05215001e-01 8.80646348e-01]\n",
      " [4.60996747e-01 6.51835084e-01]\n",
      " [6.40777111e-01 7.84840822e-01]\n",
      " [8.18580747e-01 3.32492977e-01]\n",
      " [5.33233762e-01 1.66839808e-01]\n",
      " [8.68092835e-01 2.12512587e-05]\n",
      " [7.89680362e-01 3.23771350e-02]\n",
      " [4.19794679e-01 8.84907544e-01]\n",
      " [7.22501993e-01 1.03349641e-01]\n",
      " [2.77233273e-01 8.34942043e-01]\n",
      " [1.82969160e-02 9.89203334e-01]\n",
      " [7.09113628e-02 9.72060919e-01]\n",
      " [7.22336099e-02 9.22219634e-01]\n",
      " [2.04605043e-01 8.54410589e-01]\n",
      " [2.16762915e-01 9.74830568e-01]\n",
      " [4.20626663e-02 8.51084054e-01]\n",
      " [3.41242671e-01 9.22404230e-01]\n",
      " [3.71883333e-01 6.28747106e-01]\n",
      " [1.40003294e-01 9.61818874e-01]\n",
      " [3.81303787e-01 1.79713413e-01]\n",
      " [1.27930492e-01 8.12495053e-01]\n",
      " [6.78644657e-01 1.62280798e-02]\n",
      " [3.22905689e-01 6.23786867e-01]\n",
      " [8.48715305e-01 2.21397020e-02]\n",
      " [8.55754673e-01 5.09326234e-02]\n",
      " [9.30695653e-01 8.58466998e-02]\n",
      " [1.53729254e-02 8.96655858e-01]\n",
      " [7.75863767e-01 9.07832235e-02]\n",
      " [8.50815356e-01 4.32826811e-04]\n",
      " [8.27122271e-01 5.35280891e-02]\n",
      " [5.55557847e-01 2.01074243e-01]\n",
      " [8.06177258e-01 9.36280340e-02]\n",
      " [7.75124878e-02 9.85309541e-01]\n",
      " [2.95846611e-01 9.49195743e-01]\n",
      " [2.89801717e-01 9.49816763e-01]\n",
      " [4.02982175e-01 9.52160120e-01]\n",
      " [2.58189797e-01 8.83849025e-01]\n",
      " [2.02591270e-01 9.81000006e-01]\n",
      " [8.16238165e-01 2.40637511e-02]\n",
      " [2.18162209e-01 7.81807482e-01]\n",
      " [7.24726319e-01 4.20310706e-01]\n",
      " [3.88296485e-01 8.79792690e-01]\n",
      " [1.75816774e-01 9.47583437e-01]\n",
      " [9.80480909e-02 9.41052496e-01]\n",
      " [2.01702908e-01 9.18175340e-01]\n",
      " [1.54023319e-01 7.50941515e-01]\n",
      " [4.59923744e-01 4.37078148e-01]\n",
      " [5.85627079e-01 6.46054566e-01]\n",
      " [5.27976513e-01 4.24330026e-01]\n",
      " [6.13974929e-01 3.55971754e-02]\n",
      " [2.39104226e-01 7.68460214e-01]\n",
      " [2.13954240e-01 9.09609079e-01]\n",
      " [1.91002786e-01 9.86416399e-01]\n",
      " [2.47608006e-01 9.23497558e-01]\n",
      " [4.75568473e-01 7.14842796e-01]\n",
      " [3.23283345e-01 9.60974932e-01]\n",
      " [2.74866641e-01 7.63144672e-01]\n",
      " [1.43048912e-01 9.83138025e-01]\n",
      " [7.50013649e-01 1.62180021e-01]\n",
      " [7.76007950e-01 2.44570859e-02]\n",
      " [3.20023865e-01 6.87078774e-01]\n",
      " [4.58914250e-01 4.62990075e-01]\n",
      " [1.67314753e-01 9.60616708e-01]\n",
      " [7.11505353e-01 5.75219020e-02]\n",
      " [1.32713079e-01 8.47373605e-01]\n",
      " [1.45143345e-01 9.83004570e-01]\n",
      " [2.97899842e-01 8.66754532e-01]\n",
      " [4.76474345e-01 2.49476448e-01]\n",
      " [2.34145314e-01 9.66379762e-01]\n",
      " [4.53641176e-01 1.06282920e-01]\n",
      " [7.14330375e-01 7.39844702e-03]\n",
      " [8.73963237e-01 5.57885729e-02]\n",
      " [7.41495013e-01 1.44545510e-01]\n",
      " [1.42207116e-01 9.19914544e-01]\n",
      " [1.98917147e-02 9.58469212e-01]\n",
      " [6.32723927e-01 3.25196721e-02]\n",
      " [2.88041711e-01 5.83366990e-01]\n",
      " [5.75462282e-01 2.15503886e-01]\n",
      " [5.16970009e-02 9.59186137e-01]\n",
      " [1.71228182e-02 9.92546558e-01]\n",
      " [1.48930490e-01 8.94439518e-01]\n",
      " [7.25993097e-01 7.26006972e-03]\n",
      " [4.75751996e-01 7.32293248e-01]\n",
      " [8.67576241e-01 5.67721911e-02]\n",
      " [7.79660046e-01 1.63659006e-02]\n",
      " [3.97065043e-01 5.23432672e-01]\n",
      " [7.72234797e-01 3.20461243e-01]\n",
      " [4.73104566e-01 8.65223765e-01]\n",
      " [7.52481103e-01 1.95029974e-02]\n",
      " [8.58995914e-01 5.38656255e-04]\n",
      " [3.09663355e-01 7.66126573e-01]\n",
      " [1.14835672e-01 9.25052464e-01]\n",
      " [6.83025569e-02 9.52333570e-01]]\n"
     ]
    }
   ],
   "source": [
    "print(Y_pred)"
   ]
  },
  {
   "cell_type": "markdown",
   "metadata": {
    "id": "XAcNe0C30427"
   },
   "source": [
    "model.predict() gives the prediction probability of each class for that data point"
   ]
  },
  {
   "cell_type": "code",
   "execution_count": 27,
   "metadata": {
    "colab": {
     "base_uri": "https://localhost:8080/"
    },
    "executionInfo": {
     "elapsed": 9,
     "status": "ok",
     "timestamp": 1689261454489,
     "user": {
      "displayName": "Dharshan R",
      "userId": "07720884198613084399"
     },
     "user_tz": -330
    },
    "id": "R1IVqM8C07B4",
    "outputId": "2379b0b1-6a11-43ee-e397-d4e78fa49678"
   },
   "outputs": [
    {
     "name": "stdout",
     "output_type": "stream",
     "text": [
      "[0, 1, 0, 1, 1, 1, 1, 1, 1, 0, 1, 1, 1, 1, 1, 1, 1, 0, 1, 1, 1, 1, 1, 1, 0, 0, 0, 0, 1, 0, 1, 1, 1, 1, 1, 1, 1, 1, 1, 1, 0, 1, 0, 1, 0, 0, 0, 1, 0, 0, 0, 0, 0, 1, 1, 1, 1, 1, 1, 0, 1, 0, 1, 1, 1, 1, 1, 0, 1, 0, 0, 1, 1, 1, 1, 1, 1, 1, 1, 0, 0, 1, 1, 1, 0, 1, 1, 1, 0, 1, 0, 0, 0, 0, 1, 1, 0, 1, 0, 1, 1, 1, 0, 1, 0, 0, 1, 0, 1, 0, 0, 1, 1, 1]\n"
     ]
    }
   ],
   "source": [
    "# converting the prediction probability to class labels\n",
    "\n",
    "Y_pred_labels = [np.argmax(i) for i in Y_pred]\n",
    "print(Y_pred_labels)"
   ]
  }
 ],
 "metadata": {
  "accelerator": "GPU",
  "colab": {
   "authorship_tag": "ABX9TyMELsxo2yA3d71sS/weOcxy",
   "gpuType": "T4",
   "provenance": []
  },
  "kernelspec": {
   "display_name": "Python 3 (ipykernel)",
   "language": "python",
   "name": "python3"
  },
  "language_info": {
   "codemirror_mode": {
    "name": "ipython",
    "version": 3
   },
   "file_extension": ".py",
   "mimetype": "text/x-python",
   "name": "python",
   "nbconvert_exporter": "python",
   "pygments_lexer": "ipython3",
   "version": "3.9.13"
  }
 },
 "nbformat": 4,
 "nbformat_minor": 1
}
